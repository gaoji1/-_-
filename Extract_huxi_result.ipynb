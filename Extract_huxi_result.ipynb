{
 "cells": [
  {
   "cell_type": "code",
   "execution_count": 1,
   "metadata": {
    "collapsed": false
   },
   "outputs": [],
   "source": [
    "# -*- coding: utf-8 -*-\n",
    "\"\"\"读取文件，统计数据\"\"\"\n",
    "import matplotlib.pyplot as plt \n",
    "import matplotlib as mpl\n",
    "import json\n",
    "from math import log\n",
    "def isJson(jsonstr):\n",
    "    \"\"\"判断是否是json\"\"\"\n",
    "    try:\n",
    "        a = json.loads(jsonstr)\n",
    "        return True\n",
    "    except:\n",
    "        return False\n",
    "\n",
    "def jibing_standardized(jibing_str):\n",
    "    \"\"\"疾病规范化，疾病后面括号里面的文字去除，疾病前边标识具体部位哪个部分（左，右，左上，右下等）的方位词去掉\"\"\"\n",
    "    pattern_1 = \"^(左上|左下|右上|右下|左|右|两|下|上)\"\n",
    "    str_1 = re.sub(pattern_1, \"\", jibing_str, count=0, flags=0)\n",
    "    pattern_2 = \"[A-Za-z0-9_]\"\n",
    "    str_2 = re.sub(pattern_2, \"\", str_1, count=0, flags=0)\n",
    "    for i,item in enumerate(str_2):\n",
    "        if item==\"（\" or item==\"(\" or item==\"：\":\n",
    "            str_2 = str_2[0:i]\n",
    "    str_2 = str_2.replace(\" \",\"\")\n",
    "    return str_2\n",
    "    pass\n",
    "\n",
    "\n",
    "\n",
    "with open(\"all_result_break.json\",'r',encoding=\"utf8\") as load_f:\n",
    "    huxi_data = []\n",
    "    while True:\n",
    "        #准备工作\n",
    "        line = load_f.readline()\n",
    "        if not line:\n",
    "            break\n",
    "        if not isJson(line):\n",
    "            continue;\n",
    "        json_to_dic = json.loads(line)\n",
    "        #筛选出呼吸相关科室的数据,不但需要是呼吸科室，还要有现病史信息，否则为无效数据\n",
    "        if \"subject_name\" not in json_to_dic:\n",
    "            continue\n",
    "        if \"呼吸\" not in json_to_dic[\"subject_name\"]:\n",
    "            continue\n",
    "        if \"xianbingshi\" not in json_to_dic:\n",
    "            continue\n",
    "        huxi_data.append(line)\n",
    "    load_f.close()\n",
    "with open(\"huxi_result_break.json\",'w',encoding=\"utf8\") as write_f:\n",
    "    for line in huxi_data:\n",
    "        write_f.write(line)\n",
    "    write_f.close()"
   ]
  },
  {
   "cell_type": "code",
   "execution_count": 2,
   "metadata": {
    "collapsed": false
   },
   "outputs": [
    {
     "name": "stdout",
     "output_type": "stream",
     "text": [
      "22498\n"
     ]
    }
   ],
   "source": [
    "#统计一下筛选出的病例数据有多少条\n",
    "def isJson(jsonstr):\n",
    "    \"\"\"判断是否是json\"\"\"\n",
    "    try:\n",
    "        a = json.loads(jsonstr)\n",
    "        return True\n",
    "    except:\n",
    "        return False\n",
    "with open(\"huxi_result_break.json\",\"r\",encoding=\"utf8\") as load_f:\n",
    "    count = 0\n",
    "    while True:\n",
    "        line = load_f.readline()\n",
    "        if not line:\n",
    "            break\n",
    "        if not isJson(line):\n",
    "            continue\n",
    "        count += 1\n",
    "    load_f.close()\n",
    "    print(count)"
   ]
  },
  {
   "cell_type": "code",
   "execution_count": null,
   "metadata": {
    "collapsed": true
   },
   "outputs": [],
   "source": []
  }
 ],
 "metadata": {
  "anaconda-cloud": {},
  "kernelspec": {
   "display_name": "Python [conda root]",
   "language": "python",
   "name": "conda-root-py"
  },
  "language_info": {
   "codemirror_mode": {
    "name": "ipython",
    "version": 3
   },
   "file_extension": ".py",
   "mimetype": "text/x-python",
   "name": "python",
   "nbconvert_exporter": "python",
   "pygments_lexer": "ipython3",
   "version": "3.5.2"
  }
 },
 "nbformat": 4,
 "nbformat_minor": 1
}
